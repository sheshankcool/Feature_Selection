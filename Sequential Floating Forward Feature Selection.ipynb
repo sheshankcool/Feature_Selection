{
 "cells": [
  {
   "cell_type": "code",
   "execution_count": 1,
   "id": "82c1f73c",
   "metadata": {},
   "outputs": [],
   "source": [
    "import pandas as pd\n",
    "import numpy as np\n",
    "import seaborn as sns\n",
    "import matplotlib.pyplot as plt\n",
    "from sklearn.model_selection import train_test_split\n",
    "import os\n",
    "pd.set_option(\"display.max_columns\",100)\n",
    "from sklearn.ensemble import RandomForestClassifier\n",
    "from sklearn.metrics import f1_score\n",
    "from sklearn.metrics import confusion_matrix, accuracy_score, classification_report"
   ]
  },
  {
   "cell_type": "code",
   "execution_count": 2,
   "id": "c2549961",
   "metadata": {},
   "outputs": [],
   "source": [
    "d=pd.read_csv(r\"C:\\Users\\shesh\\Desktop\\sheshank_doc\\ML\\datasets\\breast-cancer.csv\")"
   ]
  },
  {
   "cell_type": "code",
   "execution_count": 3,
   "id": "4203f029",
   "metadata": {},
   "outputs": [
    {
     "data": {
      "text/html": [
       "<div>\n",
       "<style scoped>\n",
       "    .dataframe tbody tr th:only-of-type {\n",
       "        vertical-align: middle;\n",
       "    }\n",
       "\n",
       "    .dataframe tbody tr th {\n",
       "        vertical-align: top;\n",
       "    }\n",
       "\n",
       "    .dataframe thead th {\n",
       "        text-align: right;\n",
       "    }\n",
       "</style>\n",
       "<table border=\"1\" class=\"dataframe\">\n",
       "  <thead>\n",
       "    <tr style=\"text-align: right;\">\n",
       "      <th></th>\n",
       "      <th>id</th>\n",
       "      <th>diagnosis</th>\n",
       "      <th>radius_mean</th>\n",
       "      <th>texture_mean</th>\n",
       "      <th>perimeter_mean</th>\n",
       "      <th>area_mean</th>\n",
       "      <th>smoothness_mean</th>\n",
       "      <th>compactness_mean</th>\n",
       "      <th>concavity_mean</th>\n",
       "      <th>concave points_mean</th>\n",
       "      <th>symmetry_mean</th>\n",
       "      <th>fractal_dimension_mean</th>\n",
       "      <th>radius_se</th>\n",
       "      <th>texture_se</th>\n",
       "      <th>perimeter_se</th>\n",
       "      <th>area_se</th>\n",
       "      <th>smoothness_se</th>\n",
       "      <th>compactness_se</th>\n",
       "      <th>concavity_se</th>\n",
       "      <th>concave points_se</th>\n",
       "      <th>symmetry_se</th>\n",
       "      <th>fractal_dimension_se</th>\n",
       "      <th>radius_worst</th>\n",
       "      <th>texture_worst</th>\n",
       "      <th>perimeter_worst</th>\n",
       "      <th>area_worst</th>\n",
       "      <th>smoothness_worst</th>\n",
       "      <th>compactness_worst</th>\n",
       "      <th>concavity_worst</th>\n",
       "      <th>concave points_worst</th>\n",
       "      <th>symmetry_worst</th>\n",
       "      <th>fractal_dimension_worst</th>\n",
       "    </tr>\n",
       "  </thead>\n",
       "  <tbody>\n",
       "    <tr>\n",
       "      <th>0</th>\n",
       "      <td>842302</td>\n",
       "      <td>M</td>\n",
       "      <td>17.99</td>\n",
       "      <td>10.38</td>\n",
       "      <td>122.80</td>\n",
       "      <td>1001.0</td>\n",
       "      <td>0.11840</td>\n",
       "      <td>0.27760</td>\n",
       "      <td>0.3001</td>\n",
       "      <td>0.14710</td>\n",
       "      <td>0.2419</td>\n",
       "      <td>0.07871</td>\n",
       "      <td>1.0950</td>\n",
       "      <td>0.9053</td>\n",
       "      <td>8.589</td>\n",
       "      <td>153.40</td>\n",
       "      <td>0.006399</td>\n",
       "      <td>0.04904</td>\n",
       "      <td>0.05373</td>\n",
       "      <td>0.01587</td>\n",
       "      <td>0.03003</td>\n",
       "      <td>0.006193</td>\n",
       "      <td>25.38</td>\n",
       "      <td>17.33</td>\n",
       "      <td>184.60</td>\n",
       "      <td>2019.0</td>\n",
       "      <td>0.1622</td>\n",
       "      <td>0.6656</td>\n",
       "      <td>0.7119</td>\n",
       "      <td>0.2654</td>\n",
       "      <td>0.4601</td>\n",
       "      <td>0.11890</td>\n",
       "    </tr>\n",
       "    <tr>\n",
       "      <th>1</th>\n",
       "      <td>842517</td>\n",
       "      <td>M</td>\n",
       "      <td>20.57</td>\n",
       "      <td>17.77</td>\n",
       "      <td>132.90</td>\n",
       "      <td>1326.0</td>\n",
       "      <td>0.08474</td>\n",
       "      <td>0.07864</td>\n",
       "      <td>0.0869</td>\n",
       "      <td>0.07017</td>\n",
       "      <td>0.1812</td>\n",
       "      <td>0.05667</td>\n",
       "      <td>0.5435</td>\n",
       "      <td>0.7339</td>\n",
       "      <td>3.398</td>\n",
       "      <td>74.08</td>\n",
       "      <td>0.005225</td>\n",
       "      <td>0.01308</td>\n",
       "      <td>0.01860</td>\n",
       "      <td>0.01340</td>\n",
       "      <td>0.01389</td>\n",
       "      <td>0.003532</td>\n",
       "      <td>24.99</td>\n",
       "      <td>23.41</td>\n",
       "      <td>158.80</td>\n",
       "      <td>1956.0</td>\n",
       "      <td>0.1238</td>\n",
       "      <td>0.1866</td>\n",
       "      <td>0.2416</td>\n",
       "      <td>0.1860</td>\n",
       "      <td>0.2750</td>\n",
       "      <td>0.08902</td>\n",
       "    </tr>\n",
       "    <tr>\n",
       "      <th>2</th>\n",
       "      <td>84300903</td>\n",
       "      <td>M</td>\n",
       "      <td>19.69</td>\n",
       "      <td>21.25</td>\n",
       "      <td>130.00</td>\n",
       "      <td>1203.0</td>\n",
       "      <td>0.10960</td>\n",
       "      <td>0.15990</td>\n",
       "      <td>0.1974</td>\n",
       "      <td>0.12790</td>\n",
       "      <td>0.2069</td>\n",
       "      <td>0.05999</td>\n",
       "      <td>0.7456</td>\n",
       "      <td>0.7869</td>\n",
       "      <td>4.585</td>\n",
       "      <td>94.03</td>\n",
       "      <td>0.006150</td>\n",
       "      <td>0.04006</td>\n",
       "      <td>0.03832</td>\n",
       "      <td>0.02058</td>\n",
       "      <td>0.02250</td>\n",
       "      <td>0.004571</td>\n",
       "      <td>23.57</td>\n",
       "      <td>25.53</td>\n",
       "      <td>152.50</td>\n",
       "      <td>1709.0</td>\n",
       "      <td>0.1444</td>\n",
       "      <td>0.4245</td>\n",
       "      <td>0.4504</td>\n",
       "      <td>0.2430</td>\n",
       "      <td>0.3613</td>\n",
       "      <td>0.08758</td>\n",
       "    </tr>\n",
       "    <tr>\n",
       "      <th>3</th>\n",
       "      <td>84348301</td>\n",
       "      <td>M</td>\n",
       "      <td>11.42</td>\n",
       "      <td>20.38</td>\n",
       "      <td>77.58</td>\n",
       "      <td>386.1</td>\n",
       "      <td>0.14250</td>\n",
       "      <td>0.28390</td>\n",
       "      <td>0.2414</td>\n",
       "      <td>0.10520</td>\n",
       "      <td>0.2597</td>\n",
       "      <td>0.09744</td>\n",
       "      <td>0.4956</td>\n",
       "      <td>1.1560</td>\n",
       "      <td>3.445</td>\n",
       "      <td>27.23</td>\n",
       "      <td>0.009110</td>\n",
       "      <td>0.07458</td>\n",
       "      <td>0.05661</td>\n",
       "      <td>0.01867</td>\n",
       "      <td>0.05963</td>\n",
       "      <td>0.009208</td>\n",
       "      <td>14.91</td>\n",
       "      <td>26.50</td>\n",
       "      <td>98.87</td>\n",
       "      <td>567.7</td>\n",
       "      <td>0.2098</td>\n",
       "      <td>0.8663</td>\n",
       "      <td>0.6869</td>\n",
       "      <td>0.2575</td>\n",
       "      <td>0.6638</td>\n",
       "      <td>0.17300</td>\n",
       "    </tr>\n",
       "    <tr>\n",
       "      <th>4</th>\n",
       "      <td>84358402</td>\n",
       "      <td>M</td>\n",
       "      <td>20.29</td>\n",
       "      <td>14.34</td>\n",
       "      <td>135.10</td>\n",
       "      <td>1297.0</td>\n",
       "      <td>0.10030</td>\n",
       "      <td>0.13280</td>\n",
       "      <td>0.1980</td>\n",
       "      <td>0.10430</td>\n",
       "      <td>0.1809</td>\n",
       "      <td>0.05883</td>\n",
       "      <td>0.7572</td>\n",
       "      <td>0.7813</td>\n",
       "      <td>5.438</td>\n",
       "      <td>94.44</td>\n",
       "      <td>0.011490</td>\n",
       "      <td>0.02461</td>\n",
       "      <td>0.05688</td>\n",
       "      <td>0.01885</td>\n",
       "      <td>0.01756</td>\n",
       "      <td>0.005115</td>\n",
       "      <td>22.54</td>\n",
       "      <td>16.67</td>\n",
       "      <td>152.20</td>\n",
       "      <td>1575.0</td>\n",
       "      <td>0.1374</td>\n",
       "      <td>0.2050</td>\n",
       "      <td>0.4000</td>\n",
       "      <td>0.1625</td>\n",
       "      <td>0.2364</td>\n",
       "      <td>0.07678</td>\n",
       "    </tr>\n",
       "  </tbody>\n",
       "</table>\n",
       "</div>"
      ],
      "text/plain": [
       "         id diagnosis  radius_mean  texture_mean  perimeter_mean  area_mean  \\\n",
       "0    842302         M        17.99         10.38          122.80     1001.0   \n",
       "1    842517         M        20.57         17.77          132.90     1326.0   \n",
       "2  84300903         M        19.69         21.25          130.00     1203.0   \n",
       "3  84348301         M        11.42         20.38           77.58      386.1   \n",
       "4  84358402         M        20.29         14.34          135.10     1297.0   \n",
       "\n",
       "   smoothness_mean  compactness_mean  concavity_mean  concave points_mean  \\\n",
       "0          0.11840           0.27760          0.3001              0.14710   \n",
       "1          0.08474           0.07864          0.0869              0.07017   \n",
       "2          0.10960           0.15990          0.1974              0.12790   \n",
       "3          0.14250           0.28390          0.2414              0.10520   \n",
       "4          0.10030           0.13280          0.1980              0.10430   \n",
       "\n",
       "   symmetry_mean  fractal_dimension_mean  radius_se  texture_se  perimeter_se  \\\n",
       "0         0.2419                 0.07871     1.0950      0.9053         8.589   \n",
       "1         0.1812                 0.05667     0.5435      0.7339         3.398   \n",
       "2         0.2069                 0.05999     0.7456      0.7869         4.585   \n",
       "3         0.2597                 0.09744     0.4956      1.1560         3.445   \n",
       "4         0.1809                 0.05883     0.7572      0.7813         5.438   \n",
       "\n",
       "   area_se  smoothness_se  compactness_se  concavity_se  concave points_se  \\\n",
       "0   153.40       0.006399         0.04904       0.05373            0.01587   \n",
       "1    74.08       0.005225         0.01308       0.01860            0.01340   \n",
       "2    94.03       0.006150         0.04006       0.03832            0.02058   \n",
       "3    27.23       0.009110         0.07458       0.05661            0.01867   \n",
       "4    94.44       0.011490         0.02461       0.05688            0.01885   \n",
       "\n",
       "   symmetry_se  fractal_dimension_se  radius_worst  texture_worst  \\\n",
       "0      0.03003              0.006193         25.38          17.33   \n",
       "1      0.01389              0.003532         24.99          23.41   \n",
       "2      0.02250              0.004571         23.57          25.53   \n",
       "3      0.05963              0.009208         14.91          26.50   \n",
       "4      0.01756              0.005115         22.54          16.67   \n",
       "\n",
       "   perimeter_worst  area_worst  smoothness_worst  compactness_worst  \\\n",
       "0           184.60      2019.0            0.1622             0.6656   \n",
       "1           158.80      1956.0            0.1238             0.1866   \n",
       "2           152.50      1709.0            0.1444             0.4245   \n",
       "3            98.87       567.7            0.2098             0.8663   \n",
       "4           152.20      1575.0            0.1374             0.2050   \n",
       "\n",
       "   concavity_worst  concave points_worst  symmetry_worst  \\\n",
       "0           0.7119                0.2654          0.4601   \n",
       "1           0.2416                0.1860          0.2750   \n",
       "2           0.4504                0.2430          0.3613   \n",
       "3           0.6869                0.2575          0.6638   \n",
       "4           0.4000                0.1625          0.2364   \n",
       "\n",
       "   fractal_dimension_worst  \n",
       "0                  0.11890  \n",
       "1                  0.08902  \n",
       "2                  0.08758  \n",
       "3                  0.17300  \n",
       "4                  0.07678  "
      ]
     },
     "execution_count": 3,
     "metadata": {},
     "output_type": "execute_result"
    }
   ],
   "source": [
    "d.head()"
   ]
  },
  {
   "cell_type": "code",
   "execution_count": 4,
   "id": "edd00a73",
   "metadata": {},
   "outputs": [],
   "source": [
    "d=d.drop([\"id\"],axis=1)"
   ]
  },
  {
   "cell_type": "code",
   "execution_count": 5,
   "id": "8c0f6fcb",
   "metadata": {},
   "outputs": [],
   "source": [
    "d[\"diagnosis\"]=d[\"diagnosis\"].map({\"M\":1,\"B\":0})"
   ]
  },
  {
   "cell_type": "code",
   "execution_count": 6,
   "id": "d4b6c623",
   "metadata": {},
   "outputs": [
    {
     "data": {
      "text/plain": [
       "0    357\n",
       "1    212\n",
       "Name: diagnosis, dtype: int64"
      ]
     },
     "execution_count": 6,
     "metadata": {},
     "output_type": "execute_result"
    }
   ],
   "source": [
    "d[\"diagnosis\"].value_counts()"
   ]
  },
  {
   "cell_type": "code",
   "execution_count": 7,
   "id": "990cb22a",
   "metadata": {},
   "outputs": [],
   "source": [
    "X=d.drop([\"diagnosis\"],axis=1)\n",
    "y=d[\"diagnosis\"]"
   ]
  },
  {
   "cell_type": "code",
   "execution_count": 8,
   "id": "c9993bee",
   "metadata": {},
   "outputs": [],
   "source": [
    "X_train,X_test,y_train,y_test=train_test_split(X,y,random_state=33,stratify=y,test_size=0.2)"
   ]
  },
  {
   "cell_type": "code",
   "execution_count": 9,
   "id": "3ef23b35",
   "metadata": {},
   "outputs": [
    {
     "data": {
      "text/plain": [
       "0    285\n",
       "1    170\n",
       "Name: diagnosis, dtype: int64"
      ]
     },
     "execution_count": 9,
     "metadata": {},
     "output_type": "execute_result"
    }
   ],
   "source": [
    "y_train.value_counts()"
   ]
  },
  {
   "cell_type": "code",
   "execution_count": 10,
   "id": "8332748d",
   "metadata": {},
   "outputs": [
    {
     "data": {
      "text/plain": [
       "0    72\n",
       "1    42\n",
       "Name: diagnosis, dtype: int64"
      ]
     },
     "execution_count": 10,
     "metadata": {},
     "output_type": "execute_result"
    }
   ],
   "source": [
    "y_test.value_counts()"
   ]
  },
  {
   "cell_type": "code",
   "execution_count": 11,
   "id": "a7737f41",
   "metadata": {},
   "outputs": [],
   "source": [
    "rf=RandomForestClassifier()"
   ]
  },
  {
   "cell_type": "code",
   "execution_count": 12,
   "id": "6f38e5bd",
   "metadata": {},
   "outputs": [
    {
     "data": {
      "text/html": [
       "<style>#sk-container-id-1 {color: black;background-color: white;}#sk-container-id-1 pre{padding: 0;}#sk-container-id-1 div.sk-toggleable {background-color: white;}#sk-container-id-1 label.sk-toggleable__label {cursor: pointer;display: block;width: 100%;margin-bottom: 0;padding: 0.3em;box-sizing: border-box;text-align: center;}#sk-container-id-1 label.sk-toggleable__label-arrow:before {content: \"▸\";float: left;margin-right: 0.25em;color: #696969;}#sk-container-id-1 label.sk-toggleable__label-arrow:hover:before {color: black;}#sk-container-id-1 div.sk-estimator:hover label.sk-toggleable__label-arrow:before {color: black;}#sk-container-id-1 div.sk-toggleable__content {max-height: 0;max-width: 0;overflow: hidden;text-align: left;background-color: #f0f8ff;}#sk-container-id-1 div.sk-toggleable__content pre {margin: 0.2em;color: black;border-radius: 0.25em;background-color: #f0f8ff;}#sk-container-id-1 input.sk-toggleable__control:checked~div.sk-toggleable__content {max-height: 200px;max-width: 100%;overflow: auto;}#sk-container-id-1 input.sk-toggleable__control:checked~label.sk-toggleable__label-arrow:before {content: \"▾\";}#sk-container-id-1 div.sk-estimator input.sk-toggleable__control:checked~label.sk-toggleable__label {background-color: #d4ebff;}#sk-container-id-1 div.sk-label input.sk-toggleable__control:checked~label.sk-toggleable__label {background-color: #d4ebff;}#sk-container-id-1 input.sk-hidden--visually {border: 0;clip: rect(1px 1px 1px 1px);clip: rect(1px, 1px, 1px, 1px);height: 1px;margin: -1px;overflow: hidden;padding: 0;position: absolute;width: 1px;}#sk-container-id-1 div.sk-estimator {font-family: monospace;background-color: #f0f8ff;border: 1px dotted black;border-radius: 0.25em;box-sizing: border-box;margin-bottom: 0.5em;}#sk-container-id-1 div.sk-estimator:hover {background-color: #d4ebff;}#sk-container-id-1 div.sk-parallel-item::after {content: \"\";width: 100%;border-bottom: 1px solid gray;flex-grow: 1;}#sk-container-id-1 div.sk-label:hover label.sk-toggleable__label {background-color: #d4ebff;}#sk-container-id-1 div.sk-serial::before {content: \"\";position: absolute;border-left: 1px solid gray;box-sizing: border-box;top: 0;bottom: 0;left: 50%;z-index: 0;}#sk-container-id-1 div.sk-serial {display: flex;flex-direction: column;align-items: center;background-color: white;padding-right: 0.2em;padding-left: 0.2em;position: relative;}#sk-container-id-1 div.sk-item {position: relative;z-index: 1;}#sk-container-id-1 div.sk-parallel {display: flex;align-items: stretch;justify-content: center;background-color: white;position: relative;}#sk-container-id-1 div.sk-item::before, #sk-container-id-1 div.sk-parallel-item::before {content: \"\";position: absolute;border-left: 1px solid gray;box-sizing: border-box;top: 0;bottom: 0;left: 50%;z-index: -1;}#sk-container-id-1 div.sk-parallel-item {display: flex;flex-direction: column;z-index: 1;position: relative;background-color: white;}#sk-container-id-1 div.sk-parallel-item:first-child::after {align-self: flex-end;width: 50%;}#sk-container-id-1 div.sk-parallel-item:last-child::after {align-self: flex-start;width: 50%;}#sk-container-id-1 div.sk-parallel-item:only-child::after {width: 0;}#sk-container-id-1 div.sk-dashed-wrapped {border: 1px dashed gray;margin: 0 0.4em 0.5em 0.4em;box-sizing: border-box;padding-bottom: 0.4em;background-color: white;}#sk-container-id-1 div.sk-label label {font-family: monospace;font-weight: bold;display: inline-block;line-height: 1.2em;}#sk-container-id-1 div.sk-label-container {text-align: center;}#sk-container-id-1 div.sk-container {/* jupyter's `normalize.less` sets `[hidden] { display: none; }` but bootstrap.min.css set `[hidden] { display: none !important; }` so we also need the `!important` here to be able to override the default hidden behavior on the sphinx rendered scikit-learn.org. See: https://github.com/scikit-learn/scikit-learn/issues/21755 */display: inline-block !important;position: relative;}#sk-container-id-1 div.sk-text-repr-fallback {display: none;}</style><div id=\"sk-container-id-1\" class=\"sk-top-container\"><div class=\"sk-text-repr-fallback\"><pre>RandomForestClassifier()</pre><b>In a Jupyter environment, please rerun this cell to show the HTML representation or trust the notebook. <br />On GitHub, the HTML representation is unable to render, please try loading this page with nbviewer.org.</b></div><div class=\"sk-container\" hidden><div class=\"sk-item\"><div class=\"sk-estimator sk-toggleable\"><input class=\"sk-toggleable__control sk-hidden--visually\" id=\"sk-estimator-id-1\" type=\"checkbox\" checked><label for=\"sk-estimator-id-1\" class=\"sk-toggleable__label sk-toggleable__label-arrow\">RandomForestClassifier</label><div class=\"sk-toggleable__content\"><pre>RandomForestClassifier()</pre></div></div></div></div></div>"
      ],
      "text/plain": [
       "RandomForestClassifier()"
      ]
     },
     "execution_count": 12,
     "metadata": {},
     "output_type": "execute_result"
    }
   ],
   "source": [
    "rf.fit(X_train,y_train)"
   ]
  },
  {
   "cell_type": "code",
   "execution_count": 13,
   "id": "6cb2260d",
   "metadata": {},
   "outputs": [],
   "source": [
    "pred=rf.predict(X_test)"
   ]
  },
  {
   "cell_type": "code",
   "execution_count": 14,
   "id": "4a70b7ed",
   "metadata": {},
   "outputs": [
    {
     "data": {
      "text/plain": [
       "0.875"
      ]
     },
     "execution_count": 14,
     "metadata": {},
     "output_type": "execute_result"
    }
   ],
   "source": [
    "f1_score(pred,y_test)"
   ]
  },
  {
   "cell_type": "code",
   "execution_count": 15,
   "id": "510c2e73",
   "metadata": {},
   "outputs": [
    {
     "data": {
      "text/plain": [
       "array([[69,  3],\n",
       "       [ 7, 35]], dtype=int64)"
      ]
     },
     "execution_count": 15,
     "metadata": {},
     "output_type": "execute_result"
    }
   ],
   "source": [
    "confusion_matrix(y_test,pred)"
   ]
  },
  {
   "cell_type": "code",
   "execution_count": 16,
   "id": "23ac3977",
   "metadata": {},
   "outputs": [],
   "source": [
    "def class_report(actual_y,data_to_predict):\n",
    "    predictions=rf.predict(data_to_predict)\n",
    "    return classification_report(actual_y,predictions)"
   ]
  },
  {
   "cell_type": "code",
   "execution_count": 17,
   "id": "825ca605",
   "metadata": {},
   "outputs": [
    {
     "name": "stdout",
     "output_type": "stream",
     "text": [
      "              precision    recall  f1-score   support\n",
      "\n",
      "           0       0.91      0.96      0.93        72\n",
      "           1       0.92      0.83      0.88        42\n",
      "\n",
      "    accuracy                           0.91       114\n",
      "   macro avg       0.91      0.90      0.90       114\n",
      "weighted avg       0.91      0.91      0.91       114\n",
      "\n"
     ]
    }
   ],
   "source": [
    "print(class_report(y_test,X_test))"
   ]
  },
  {
   "cell_type": "code",
   "execution_count": null,
   "id": "e21ce74b",
   "metadata": {},
   "outputs": [],
   "source": []
  },
  {
   "cell_type": "code",
   "execution_count": 18,
   "id": "8dd74cd4",
   "metadata": {},
   "outputs": [],
   "source": [
    "from mlxtend.feature_selection import SequentialFeatureSelector as sfs\n"
   ]
  },
  {
   "cell_type": "markdown",
   "id": "6ef6ad29",
   "metadata": {},
   "source": [
    "We start by selection the \"best\" 10 features from the  dataset via Sequential Forward Selection (SFS). Here, we set forward=True and floating=False. By choosing cv=5, we perform cross-validation.\n",
    "\n",
    "We used F1 score as the performance metric as the dataset is imbalanced."
   ]
  },
  {
   "cell_type": "code",
   "execution_count": 19,
   "id": "57e71fb7",
   "metadata": {},
   "outputs": [
    {
     "name": "stderr",
     "output_type": "stream",
     "text": [
      "[Parallel(n_jobs=1)]: Using backend SequentialBackend with 1 concurrent workers.\n",
      "[Parallel(n_jobs=1)]: Done   1 out of   1 | elapsed:    3.3s remaining:    0.0s\n",
      "[Parallel(n_jobs=1)]: Done  30 out of  30 | elapsed:   23.2s finished\n",
      "\n",
      "[2023-02-28 17:30:40] Features: 1/10 -- score: 0.8705882352941176[Parallel(n_jobs=1)]: Using backend SequentialBackend with 1 concurrent workers.\n",
      "[Parallel(n_jobs=1)]: Done   1 out of   1 | elapsed:    0.5s remaining:    0.0s\n",
      "[Parallel(n_jobs=1)]: Done  29 out of  29 | elapsed:   17.9s finished\n",
      "\n",
      "[2023-02-28 17:30:58] Features: 2/10 -- score: 0.9352941176470588[Parallel(n_jobs=1)]: Using backend SequentialBackend with 1 concurrent workers.\n",
      "[Parallel(n_jobs=1)]: Done   1 out of   1 | elapsed:    0.5s remaining:    0.0s\n",
      "[Parallel(n_jobs=1)]: Done  28 out of  28 | elapsed:   17.2s finished\n",
      "[Parallel(n_jobs=1)]: Using backend SequentialBackend with 1 concurrent workers.\n",
      "[Parallel(n_jobs=1)]: Done   1 out of   1 | elapsed:    0.5s remaining:    0.0s\n",
      "[Parallel(n_jobs=1)]: Done   2 out of   2 | elapsed:    1.1s finished\n",
      "\n",
      "[2023-02-28 17:31:17] Features: 3/10 -- score: 0.9647058823529413[Parallel(n_jobs=1)]: Using backend SequentialBackend with 1 concurrent workers.\n",
      "[Parallel(n_jobs=1)]: Done   1 out of   1 | elapsed:    0.6s remaining:    0.0s\n",
      "[Parallel(n_jobs=1)]: Done  27 out of  27 | elapsed:   16.4s finished\n",
      "[Parallel(n_jobs=1)]: Using backend SequentialBackend with 1 concurrent workers.\n",
      "[Parallel(n_jobs=1)]: Done   1 out of   1 | elapsed:    0.5s remaining:    0.0s\n",
      "[Parallel(n_jobs=1)]: Done   3 out of   3 | elapsed:    1.8s finished\n",
      "\n",
      "[2023-02-28 17:31:35] Features: 4/10 -- score: 0.9705882352941178[Parallel(n_jobs=1)]: Using backend SequentialBackend with 1 concurrent workers.\n",
      "[Parallel(n_jobs=1)]: Done   1 out of   1 | elapsed:    0.5s remaining:    0.0s\n",
      "[Parallel(n_jobs=1)]: Done  26 out of  26 | elapsed:   16.1s finished\n",
      "[Parallel(n_jobs=1)]: Using backend SequentialBackend with 1 concurrent workers.\n",
      "[Parallel(n_jobs=1)]: Done   1 out of   1 | elapsed:    0.5s remaining:    0.0s\n",
      "[Parallel(n_jobs=1)]: Done   4 out of   4 | elapsed:    2.4s finished\n",
      "\n",
      "[2023-02-28 17:31:54] Features: 5/10 -- score: 0.9647058823529413[Parallel(n_jobs=1)]: Using backend SequentialBackend with 1 concurrent workers.\n",
      "[Parallel(n_jobs=1)]: Done   1 out of   1 | elapsed:    0.5s remaining:    0.0s\n",
      "[Parallel(n_jobs=1)]: Done  25 out of  25 | elapsed:   15.5s finished\n",
      "[Parallel(n_jobs=1)]: Using backend SequentialBackend with 1 concurrent workers.\n",
      "[Parallel(n_jobs=1)]: Done   1 out of   1 | elapsed:    0.5s remaining:    0.0s\n",
      "[Parallel(n_jobs=1)]: Done   5 out of   5 | elapsed:    3.0s finished\n",
      "\n",
      "[2023-02-28 17:32:13] Features: 6/10 -- score: 0.9705882352941178[Parallel(n_jobs=1)]: Using backend SequentialBackend with 1 concurrent workers.\n",
      "[Parallel(n_jobs=1)]: Done   1 out of   1 | elapsed:    0.5s remaining:    0.0s\n",
      "[Parallel(n_jobs=1)]: Done  24 out of  24 | elapsed:   14.6s finished\n",
      "[Parallel(n_jobs=1)]: Using backend SequentialBackend with 1 concurrent workers.\n",
      "[Parallel(n_jobs=1)]: Done   1 out of   1 | elapsed:    0.5s remaining:    0.0s\n",
      "[Parallel(n_jobs=1)]: Done   6 out of   6 | elapsed:    3.6s finished\n",
      "[Parallel(n_jobs=1)]: Using backend SequentialBackend with 1 concurrent workers.\n",
      "[Parallel(n_jobs=1)]: Done   1 out of   1 | elapsed:    0.5s remaining:    0.0s\n",
      "[Parallel(n_jobs=1)]: Done   5 out of   5 | elapsed:    2.9s finished\n",
      "\n",
      "[2023-02-28 17:32:34] Features: 6/10 -- score: 0.9764705882352942[Parallel(n_jobs=1)]: Using backend SequentialBackend with 1 concurrent workers.\n",
      "[Parallel(n_jobs=1)]: Done   1 out of   1 | elapsed:    0.5s remaining:    0.0s\n",
      "[Parallel(n_jobs=1)]: Done  24 out of  24 | elapsed:   14.9s finished\n",
      "[Parallel(n_jobs=1)]: Using backend SequentialBackend with 1 concurrent workers.\n",
      "[Parallel(n_jobs=1)]: Done   1 out of   1 | elapsed:    0.5s remaining:    0.0s\n",
      "[Parallel(n_jobs=1)]: Done   6 out of   6 | elapsed:    3.6s finished\n",
      "\n",
      "[2023-02-28 17:32:53] Features: 7/10 -- score: 0.9823529411764707[Parallel(n_jobs=1)]: Using backend SequentialBackend with 1 concurrent workers.\n",
      "[Parallel(n_jobs=1)]: Done   1 out of   1 | elapsed:    0.5s remaining:    0.0s\n",
      "[Parallel(n_jobs=1)]: Done  23 out of  23 | elapsed:   14.1s finished\n",
      "[Parallel(n_jobs=1)]: Using backend SequentialBackend with 1 concurrent workers.\n",
      "[Parallel(n_jobs=1)]: Done   1 out of   1 | elapsed:    0.5s remaining:    0.0s\n",
      "[Parallel(n_jobs=1)]: Done   7 out of   7 | elapsed:    4.2s finished\n",
      "\n",
      "[2023-02-28 17:33:11] Features: 8/10 -- score: 0.9764705882352942[Parallel(n_jobs=1)]: Using backend SequentialBackend with 1 concurrent workers.\n",
      "[Parallel(n_jobs=1)]: Done   1 out of   1 | elapsed:    0.5s remaining:    0.0s\n",
      "[Parallel(n_jobs=1)]: Done  22 out of  22 | elapsed:   13.5s finished\n",
      "[Parallel(n_jobs=1)]: Using backend SequentialBackend with 1 concurrent workers.\n",
      "[Parallel(n_jobs=1)]: Done   1 out of   1 | elapsed:    0.5s remaining:    0.0s\n",
      "[Parallel(n_jobs=1)]: Done   8 out of   8 | elapsed:    4.7s finished\n",
      "\n",
      "[2023-02-28 17:33:30] Features: 9/10 -- score: 0.9764705882352942[Parallel(n_jobs=1)]: Using backend SequentialBackend with 1 concurrent workers.\n",
      "[Parallel(n_jobs=1)]: Done   1 out of   1 | elapsed:    0.5s remaining:    0.0s\n",
      "[Parallel(n_jobs=1)]: Done  21 out of  21 | elapsed:   12.5s finished\n",
      "[Parallel(n_jobs=1)]: Using backend SequentialBackend with 1 concurrent workers.\n",
      "[Parallel(n_jobs=1)]: Done   1 out of   1 | elapsed:    0.5s remaining:    0.0s\n",
      "[Parallel(n_jobs=1)]: Done   9 out of   9 | elapsed:    5.5s finished\n",
      "\n",
      "[2023-02-28 17:33:48] Features: 10/10 -- score: 0.9764705882352942"
     ]
    }
   ],
   "source": [
    "clf = RandomForestClassifier(n_estimators=100, n_jobs=-1)\n",
    "\n",
    "# Build step forward feature selection\n",
    "sfs1 = sfs(clf,\n",
    "           k_features=10,\n",
    "           forward=True,\n",
    "           floating=True,\n",
    "           verbose=2,\n",
    "           scoring='recall',\n",
    "           cv=5)\n",
    "\n",
    "# Perform SFFS\n",
    "sfs1 = sfs1.fit(X_train, y_train)"
   ]
  },
  {
   "cell_type": "markdown",
   "id": "20e1499d",
   "metadata": {},
   "source": [
    "#### In order to look at the selected feature indices at each step we can use model.subsets_:"
   ]
  },
  {
   "cell_type": "code",
   "execution_count": 20,
   "id": "a18b430c",
   "metadata": {},
   "outputs": [
    {
     "data": {
      "text/plain": [
       "{1: {'feature_idx': (22,),\n",
       "  'cv_scores': array([0.91176471, 0.79411765, 0.85294118, 0.79411765, 1.        ]),\n",
       "  'avg_score': 0.8705882352941176,\n",
       "  'feature_names': ('perimeter_worst',)},\n",
       " 2: {'feature_idx': (22, 24),\n",
       "  'cv_scores': array([0.91176471, 0.97058824, 0.91176471, 0.94117647, 0.94117647]),\n",
       "  'avg_score': 0.9352941176470588,\n",
       "  'feature_names': ('perimeter_worst', 'smoothness_worst')},\n",
       " 3: {'feature_idx': (21, 22, 24),\n",
       "  'cv_scores': array([0.97058824, 1.        , 0.94117647, 0.91176471, 1.        ]),\n",
       "  'avg_score': 0.9647058823529413,\n",
       "  'feature_names': ('texture_worst', 'perimeter_worst', 'smoothness_worst')},\n",
       " 4: {'feature_idx': (1, 21, 22, 24),\n",
       "  'cv_scores': array([1.        , 1.        , 0.94117647, 0.94117647, 0.97058824]),\n",
       "  'avg_score': 0.9705882352941178,\n",
       "  'feature_names': ('texture_mean',\n",
       "   'texture_worst',\n",
       "   'perimeter_worst',\n",
       "   'smoothness_worst')},\n",
       " 5: {'feature_idx': (1, 6, 21, 22, 24),\n",
       "  'cv_scores': array([0.97058824, 1.        , 0.97058824, 0.94117647, 0.94117647]),\n",
       "  'avg_score': 0.9647058823529413,\n",
       "  'feature_names': ('texture_mean',\n",
       "   'concavity_mean',\n",
       "   'texture_worst',\n",
       "   'perimeter_worst',\n",
       "   'smoothness_worst')},\n",
       " 6: {'feature_idx': (0, 1, 6, 21, 23, 24),\n",
       "  'cv_scores': array([1.        , 1.        , 0.97058824, 0.91176471, 1.        ]),\n",
       "  'avg_score': 0.9764705882352942,\n",
       "  'feature_names': ('radius_mean',\n",
       "   'texture_mean',\n",
       "   'concavity_mean',\n",
       "   'texture_worst',\n",
       "   'area_worst',\n",
       "   'smoothness_worst')},\n",
       " 7: {'feature_idx': (0, 1, 3, 6, 21, 23, 24),\n",
       "  'cv_scores': array([1.        , 1.        , 0.97058824, 0.94117647, 1.        ]),\n",
       "  'avg_score': 0.9823529411764707,\n",
       "  'feature_names': ('radius_mean',\n",
       "   'texture_mean',\n",
       "   'area_mean',\n",
       "   'concavity_mean',\n",
       "   'texture_worst',\n",
       "   'area_worst',\n",
       "   'smoothness_worst')},\n",
       " 8: {'feature_idx': (0, 1, 3, 4, 6, 21, 23, 24),\n",
       "  'cv_scores': array([1.        , 0.97058824, 0.97058824, 0.94117647, 1.        ]),\n",
       "  'avg_score': 0.9764705882352942,\n",
       "  'feature_names': ('radius_mean',\n",
       "   'texture_mean',\n",
       "   'area_mean',\n",
       "   'smoothness_mean',\n",
       "   'concavity_mean',\n",
       "   'texture_worst',\n",
       "   'area_worst',\n",
       "   'smoothness_worst')},\n",
       " 9: {'feature_idx': (0, 1, 3, 4, 6, 12, 21, 23, 24),\n",
       "  'cv_scores': array([1.        , 0.97058824, 0.97058824, 0.94117647, 1.        ]),\n",
       "  'avg_score': 0.9764705882352942,\n",
       "  'feature_names': ('radius_mean',\n",
       "   'texture_mean',\n",
       "   'area_mean',\n",
       "   'smoothness_mean',\n",
       "   'concavity_mean',\n",
       "   'perimeter_se',\n",
       "   'texture_worst',\n",
       "   'area_worst',\n",
       "   'smoothness_worst')},\n",
       " 10: {'feature_idx': (0, 1, 3, 4, 6, 11, 12, 21, 23, 24),\n",
       "  'cv_scores': array([1.        , 1.        , 0.97058824, 0.91176471, 1.        ]),\n",
       "  'avg_score': 0.9764705882352942,\n",
       "  'feature_names': ('radius_mean',\n",
       "   'texture_mean',\n",
       "   'area_mean',\n",
       "   'smoothness_mean',\n",
       "   'concavity_mean',\n",
       "   'texture_se',\n",
       "   'perimeter_se',\n",
       "   'texture_worst',\n",
       "   'area_worst',\n",
       "   'smoothness_worst')}}"
      ]
     },
     "execution_count": 20,
     "metadata": {},
     "output_type": "execute_result"
    }
   ],
   "source": [
    "sfs1.subsets_"
   ]
  },
  {
   "cell_type": "markdown",
   "id": "90ca0a57",
   "metadata": {},
   "source": [
    "#### we can access the indices of the 3 best features directly via the k_feature_idx_ attribute:"
   ]
  },
  {
   "cell_type": "code",
   "execution_count": 21,
   "id": "1a8cee13",
   "metadata": {
    "scrolled": true
   },
   "outputs": [
    {
     "name": "stdout",
     "output_type": "stream",
     "text": [
      "[0, 1, 3, 4, 6, 11, 12, 21, 23, 24]\n"
     ]
    }
   ],
   "source": [
    "# Which features?\n",
    "feat_cols = list(sfs1.k_feature_idx_)\n",
    "print(feat_cols)"
   ]
  },
  {
   "cell_type": "markdown",
   "id": "65e40260",
   "metadata": {},
   "source": [
    "To obtain the names of these features, given that we provided an argument to the custom_feature_names parameter, we can refer to the sfs1.k_feature_names_ attribute:"
   ]
  },
  {
   "cell_type": "code",
   "execution_count": 22,
   "id": "e35fe73e",
   "metadata": {},
   "outputs": [
    {
     "data": {
      "text/plain": [
       "('radius_mean',\n",
       " 'texture_mean',\n",
       " 'area_mean',\n",
       " 'smoothness_mean',\n",
       " 'concavity_mean',\n",
       " 'texture_se',\n",
       " 'perimeter_se',\n",
       " 'texture_worst',\n",
       " 'area_worst',\n",
       " 'smoothness_worst')"
      ]
     },
     "execution_count": 22,
     "metadata": {},
     "output_type": "execute_result"
    }
   ],
   "source": [
    "sfs1.k_feature_names_"
   ]
  },
  {
   "cell_type": "markdown",
   "id": "50a14476",
   "metadata": {},
   "source": [
    "#### To get the best score"
   ]
  },
  {
   "cell_type": "code",
   "execution_count": 23,
   "id": "cbc6b00d",
   "metadata": {},
   "outputs": [
    {
     "data": {
      "text/plain": [
       "0.9764705882352942"
      ]
     },
     "execution_count": 23,
     "metadata": {},
     "output_type": "execute_result"
    }
   ],
   "source": [
    "sfs1.k_score_"
   ]
  },
  {
   "cell_type": "markdown",
   "id": "9c40ebda",
   "metadata": {},
   "source": [
    "### Visualizing the results in DataFrames"
   ]
  },
  {
   "cell_type": "code",
   "execution_count": 24,
   "id": "76ffc6b8",
   "metadata": {
    "scrolled": true
   },
   "outputs": [
    {
     "data": {
      "text/html": [
       "<div>\n",
       "<style scoped>\n",
       "    .dataframe tbody tr th:only-of-type {\n",
       "        vertical-align: middle;\n",
       "    }\n",
       "\n",
       "    .dataframe tbody tr th {\n",
       "        vertical-align: top;\n",
       "    }\n",
       "\n",
       "    .dataframe thead th {\n",
       "        text-align: right;\n",
       "    }\n",
       "</style>\n",
       "<table border=\"1\" class=\"dataframe\">\n",
       "  <thead>\n",
       "    <tr style=\"text-align: right;\">\n",
       "      <th></th>\n",
       "      <th>feature_idx</th>\n",
       "      <th>cv_scores</th>\n",
       "      <th>avg_score</th>\n",
       "      <th>feature_names</th>\n",
       "      <th>ci_bound</th>\n",
       "      <th>std_dev</th>\n",
       "      <th>std_err</th>\n",
       "    </tr>\n",
       "  </thead>\n",
       "  <tbody>\n",
       "    <tr>\n",
       "      <th>1</th>\n",
       "      <td>(22,)</td>\n",
       "      <td>[0.9117647058823529, 0.7941176470588235, 0.852...</td>\n",
       "      <td>0.870588</td>\n",
       "      <td>(perimeter_worst,)</td>\n",
       "      <td>0.100302</td>\n",
       "      <td>0.078038</td>\n",
       "      <td>0.039019</td>\n",
       "    </tr>\n",
       "    <tr>\n",
       "      <th>2</th>\n",
       "      <td>(22, 24)</td>\n",
       "      <td>[0.9117647058823529, 0.9705882352941176, 0.911...</td>\n",
       "      <td>0.935294</td>\n",
       "      <td>(perimeter_worst, smoothness_worst)</td>\n",
       "      <td>0.028289</td>\n",
       "      <td>0.02201</td>\n",
       "      <td>0.011005</td>\n",
       "    </tr>\n",
       "    <tr>\n",
       "      <th>3</th>\n",
       "      <td>(21, 22, 24)</td>\n",
       "      <td>[0.9705882352941176, 1.0, 0.9411764705882353, ...</td>\n",
       "      <td>0.964706</td>\n",
       "      <td>(texture_worst, perimeter_worst, smoothness_wo...</td>\n",
       "      <td>0.044085</td>\n",
       "      <td>0.0343</td>\n",
       "      <td>0.01715</td>\n",
       "    </tr>\n",
       "    <tr>\n",
       "      <th>4</th>\n",
       "      <td>(1, 21, 22, 24)</td>\n",
       "      <td>[1.0, 1.0, 0.9411764705882353, 0.9411764705882...</td>\n",
       "      <td>0.970588</td>\n",
       "      <td>(texture_mean, texture_worst, perimeter_worst,...</td>\n",
       "      <td>0.033812</td>\n",
       "      <td>0.026307</td>\n",
       "      <td>0.013153</td>\n",
       "    </tr>\n",
       "    <tr>\n",
       "      <th>5</th>\n",
       "      <td>(1, 6, 21, 22, 24)</td>\n",
       "      <td>[0.9705882352941176, 1.0, 0.9705882352941176, ...</td>\n",
       "      <td>0.964706</td>\n",
       "      <td>(texture_mean, concavity_mean, texture_worst, ...</td>\n",
       "      <td>0.028289</td>\n",
       "      <td>0.02201</td>\n",
       "      <td>0.011005</td>\n",
       "    </tr>\n",
       "    <tr>\n",
       "      <th>6</th>\n",
       "      <td>(0, 1, 6, 21, 23, 24)</td>\n",
       "      <td>[1.0, 1.0, 0.9705882352941176, 0.9117647058823...</td>\n",
       "      <td>0.976471</td>\n",
       "      <td>(radius_mean, texture_mean, concavity_mean, te...</td>\n",
       "      <td>0.044085</td>\n",
       "      <td>0.0343</td>\n",
       "      <td>0.01715</td>\n",
       "    </tr>\n",
       "    <tr>\n",
       "      <th>7</th>\n",
       "      <td>(0, 1, 3, 6, 21, 23, 24)</td>\n",
       "      <td>[1.0, 1.0, 0.9705882352941176, 0.9411764705882...</td>\n",
       "      <td>0.982353</td>\n",
       "      <td>(radius_mean, texture_mean, area_mean, concavi...</td>\n",
       "      <td>0.030242</td>\n",
       "      <td>0.023529</td>\n",
       "      <td>0.011765</td>\n",
       "    </tr>\n",
       "    <tr>\n",
       "      <th>8</th>\n",
       "      <td>(0, 1, 3, 4, 6, 21, 23, 24)</td>\n",
       "      <td>[1.0, 0.9705882352941176, 0.9705882352941176, ...</td>\n",
       "      <td>0.976471</td>\n",
       "      <td>(radius_mean, texture_mean, area_mean, smoothn...</td>\n",
       "      <td>0.028289</td>\n",
       "      <td>0.02201</td>\n",
       "      <td>0.011005</td>\n",
       "    </tr>\n",
       "    <tr>\n",
       "      <th>9</th>\n",
       "      <td>(0, 1, 3, 4, 6, 12, 21, 23, 24)</td>\n",
       "      <td>[1.0, 0.9705882352941176, 0.9705882352941176, ...</td>\n",
       "      <td>0.976471</td>\n",
       "      <td>(radius_mean, texture_mean, area_mean, smoothn...</td>\n",
       "      <td>0.028289</td>\n",
       "      <td>0.02201</td>\n",
       "      <td>0.011005</td>\n",
       "    </tr>\n",
       "    <tr>\n",
       "      <th>10</th>\n",
       "      <td>(0, 1, 3, 4, 6, 11, 12, 21, 23, 24)</td>\n",
       "      <td>[1.0, 1.0, 0.9705882352941176, 0.9117647058823...</td>\n",
       "      <td>0.976471</td>\n",
       "      <td>(radius_mean, texture_mean, area_mean, smoothn...</td>\n",
       "      <td>0.044085</td>\n",
       "      <td>0.0343</td>\n",
       "      <td>0.01715</td>\n",
       "    </tr>\n",
       "  </tbody>\n",
       "</table>\n",
       "</div>"
      ],
      "text/plain": [
       "                            feature_idx  \\\n",
       "1                                 (22,)   \n",
       "2                              (22, 24)   \n",
       "3                          (21, 22, 24)   \n",
       "4                       (1, 21, 22, 24)   \n",
       "5                    (1, 6, 21, 22, 24)   \n",
       "6                 (0, 1, 6, 21, 23, 24)   \n",
       "7              (0, 1, 3, 6, 21, 23, 24)   \n",
       "8           (0, 1, 3, 4, 6, 21, 23, 24)   \n",
       "9       (0, 1, 3, 4, 6, 12, 21, 23, 24)   \n",
       "10  (0, 1, 3, 4, 6, 11, 12, 21, 23, 24)   \n",
       "\n",
       "                                            cv_scores avg_score  \\\n",
       "1   [0.9117647058823529, 0.7941176470588235, 0.852...  0.870588   \n",
       "2   [0.9117647058823529, 0.9705882352941176, 0.911...  0.935294   \n",
       "3   [0.9705882352941176, 1.0, 0.9411764705882353, ...  0.964706   \n",
       "4   [1.0, 1.0, 0.9411764705882353, 0.9411764705882...  0.970588   \n",
       "5   [0.9705882352941176, 1.0, 0.9705882352941176, ...  0.964706   \n",
       "6   [1.0, 1.0, 0.9705882352941176, 0.9117647058823...  0.976471   \n",
       "7   [1.0, 1.0, 0.9705882352941176, 0.9411764705882...  0.982353   \n",
       "8   [1.0, 0.9705882352941176, 0.9705882352941176, ...  0.976471   \n",
       "9   [1.0, 0.9705882352941176, 0.9705882352941176, ...  0.976471   \n",
       "10  [1.0, 1.0, 0.9705882352941176, 0.9117647058823...  0.976471   \n",
       "\n",
       "                                        feature_names  ci_bound   std_dev  \\\n",
       "1                                  (perimeter_worst,)  0.100302  0.078038   \n",
       "2                 (perimeter_worst, smoothness_worst)  0.028289   0.02201   \n",
       "3   (texture_worst, perimeter_worst, smoothness_wo...  0.044085    0.0343   \n",
       "4   (texture_mean, texture_worst, perimeter_worst,...  0.033812  0.026307   \n",
       "5   (texture_mean, concavity_mean, texture_worst, ...  0.028289   0.02201   \n",
       "6   (radius_mean, texture_mean, concavity_mean, te...  0.044085    0.0343   \n",
       "7   (radius_mean, texture_mean, area_mean, concavi...  0.030242  0.023529   \n",
       "8   (radius_mean, texture_mean, area_mean, smoothn...  0.028289   0.02201   \n",
       "9   (radius_mean, texture_mean, area_mean, smoothn...  0.028289   0.02201   \n",
       "10  (radius_mean, texture_mean, area_mean, smoothn...  0.044085    0.0343   \n",
       "\n",
       "     std_err  \n",
       "1   0.039019  \n",
       "2   0.011005  \n",
       "3    0.01715  \n",
       "4   0.013153  \n",
       "5   0.011005  \n",
       "6    0.01715  \n",
       "7   0.011765  \n",
       "8   0.011005  \n",
       "9   0.011005  \n",
       "10   0.01715  "
      ]
     },
     "execution_count": 24,
     "metadata": {},
     "output_type": "execute_result"
    }
   ],
   "source": [
    "pd.DataFrame.from_dict(sfs1.get_metric_dict()).T\n"
   ]
  },
  {
   "cell_type": "code",
   "execution_count": 25,
   "id": "67df1fdf",
   "metadata": {},
   "outputs": [
    {
     "data": {
      "text/plain": [
       "(<Figure size 640x480 with 1 Axes>,\n",
       " <AxesSubplot: xlabel='Number of Features', ylabel='Performance'>)"
      ]
     },
     "execution_count": 25,
     "metadata": {},
     "output_type": "execute_result"
    },
    {
     "data": {
      "image/png": "[encoded data removed]",
      "text/plain": [
       "<Figure size 640x480 with 1 Axes>"
      ]
     },
     "metadata": {},
     "output_type": "display_data"
    }
   ],
   "source": [
    "from mlxtend.plotting import plot_sequential_feature_selection as plot_sfs\n",
    "plot_sfs(sfs1.get_metric_dict(), kind='std_dev')"
   ]
  },
  {
   "cell_type": "code",
   "execution_count": 47,
   "id": "9b850447",
   "metadata": {},
   "outputs": [],
   "source": [
    "def class_report(actual_y,data_to_predict,classifier):\n",
    "    predictions=classifier.predict(data_to_predict)\n",
    "    return classification_report(actual_y,predictions)"
   ]
  },
  {
   "cell_type": "code",
   "execution_count": 50,
   "id": "e9804e91",
   "metadata": {},
   "outputs": [
    {
     "data": {
      "text/html": [
       "<div>\n",
       "<style scoped>\n",
       "    .dataframe tbody tr th:only-of-type {\n",
       "        vertical-align: middle;\n",
       "    }\n",
       "\n",
       "    .dataframe tbody tr th {\n",
       "        vertical-align: top;\n",
       "    }\n",
       "\n",
       "    .dataframe thead th {\n",
       "        text-align: right;\n",
       "    }\n",
       "</style>\n",
       "<table border=\"1\" class=\"dataframe\">\n",
       "  <thead>\n",
       "    <tr style=\"text-align: right;\">\n",
       "      <th></th>\n",
       "      <th>smoothness_mean</th>\n",
       "      <th>fractal_dimension_mean</th>\n",
       "      <th>smoothness_se</th>\n",
       "      <th>concavity_se</th>\n",
       "      <th>texture_worst</th>\n",
       "      <th>perimeter_worst</th>\n",
       "      <th>area_worst</th>\n",
       "      <th>smoothness_worst</th>\n",
       "      <th>concavity_worst</th>\n",
       "      <th>fractal_dimension_worst</th>\n",
       "    </tr>\n",
       "  </thead>\n",
       "  <tbody>\n",
       "    <tr>\n",
       "      <th>111</th>\n",
       "      <td>0.09933</td>\n",
       "      <td>0.07070</td>\n",
       "      <td>0.012910</td>\n",
       "      <td>0.05101</td>\n",
       "      <td>25.47</td>\n",
       "      <td>89.00</td>\n",
       "      <td>527.4</td>\n",
       "      <td>0.1287</td>\n",
       "      <td>0.22160</td>\n",
       "      <td>0.08486</td>\n",
       "    </tr>\n",
       "    <tr>\n",
       "      <th>463</th>\n",
       "      <td>0.08508</td>\n",
       "      <td>0.05859</td>\n",
       "      <td>0.006709</td>\n",
       "      <td>0.02080</td>\n",
       "      <td>24.02</td>\n",
       "      <td>82.68</td>\n",
       "      <td>495.1</td>\n",
       "      <td>0.1342</td>\n",
       "      <td>0.18600</td>\n",
       "      <td>0.07863</td>\n",
       "    </tr>\n",
       "    <tr>\n",
       "      <th>268</th>\n",
       "      <td>0.09425</td>\n",
       "      <td>0.05769</td>\n",
       "      <td>0.005518</td>\n",
       "      <td>0.02589</td>\n",
       "      <td>23.64</td>\n",
       "      <td>89.27</td>\n",
       "      <td>597.5</td>\n",
       "      <td>0.1256</td>\n",
       "      <td>0.19920</td>\n",
       "      <td>0.07062</td>\n",
       "    </tr>\n",
       "    <tr>\n",
       "      <th>20</th>\n",
       "      <td>0.10750</td>\n",
       "      <td>0.06811</td>\n",
       "      <td>0.004097</td>\n",
       "      <td>0.01698</td>\n",
       "      <td>20.49</td>\n",
       "      <td>96.09</td>\n",
       "      <td>630.5</td>\n",
       "      <td>0.1312</td>\n",
       "      <td>0.18900</td>\n",
       "      <td>0.08183</td>\n",
       "    </tr>\n",
       "    <tr>\n",
       "      <th>520</th>\n",
       "      <td>0.13710</td>\n",
       "      <td>0.07696</td>\n",
       "      <td>0.015460</td>\n",
       "      <td>0.02197</td>\n",
       "      <td>17.84</td>\n",
       "      <td>67.84</td>\n",
       "      <td>326.6</td>\n",
       "      <td>0.1850</td>\n",
       "      <td>0.09996</td>\n",
       "      <td>0.08982</td>\n",
       "    </tr>\n",
       "    <tr>\n",
       "      <th>...</th>\n",
       "      <td>...</td>\n",
       "      <td>...</td>\n",
       "      <td>...</td>\n",
       "      <td>...</td>\n",
       "      <td>...</td>\n",
       "      <td>...</td>\n",
       "      <td>...</td>\n",
       "      <td>...</td>\n",
       "      <td>...</td>\n",
       "      <td>...</td>\n",
       "    </tr>\n",
       "    <tr>\n",
       "      <th>462</th>\n",
       "      <td>0.06995</td>\n",
       "      <td>0.05433</td>\n",
       "      <td>0.005356</td>\n",
       "      <td>0.01971</td>\n",
       "      <td>31.98</td>\n",
       "      <td>100.40</td>\n",
       "      <td>734.6</td>\n",
       "      <td>0.1017</td>\n",
       "      <td>0.14720</td>\n",
       "      <td>0.06464</td>\n",
       "    </tr>\n",
       "    <tr>\n",
       "      <th>566</th>\n",
       "      <td>0.08455</td>\n",
       "      <td>0.05648</td>\n",
       "      <td>0.005903</td>\n",
       "      <td>0.04730</td>\n",
       "      <td>34.12</td>\n",
       "      <td>126.70</td>\n",
       "      <td>1124.0</td>\n",
       "      <td>0.1139</td>\n",
       "      <td>0.34030</td>\n",
       "      <td>0.07820</td>\n",
       "    </tr>\n",
       "    <tr>\n",
       "      <th>53</th>\n",
       "      <td>0.11480</td>\n",
       "      <td>0.06310</td>\n",
       "      <td>0.003899</td>\n",
       "      <td>0.02817</td>\n",
       "      <td>24.13</td>\n",
       "      <td>135.10</td>\n",
       "      <td>1321.0</td>\n",
       "      <td>0.1280</td>\n",
       "      <td>0.26230</td>\n",
       "      <td>0.07987</td>\n",
       "    </tr>\n",
       "    <tr>\n",
       "      <th>144</th>\n",
       "      <td>0.07793</td>\n",
       "      <td>0.05688</td>\n",
       "      <td>0.006547</td>\n",
       "      <td>0.02018</td>\n",
       "      <td>20.72</td>\n",
       "      <td>77.79</td>\n",
       "      <td>441.2</td>\n",
       "      <td>0.1076</td>\n",
       "      <td>0.09755</td>\n",
       "      <td>0.06769</td>\n",
       "    </tr>\n",
       "    <tr>\n",
       "      <th>45</th>\n",
       "      <td>0.10990</td>\n",
       "      <td>0.06049</td>\n",
       "      <td>0.006294</td>\n",
       "      <td>0.05554</td>\n",
       "      <td>21.32</td>\n",
       "      <td>150.60</td>\n",
       "      <td>1567.0</td>\n",
       "      <td>0.1679</td>\n",
       "      <td>0.73450</td>\n",
       "      <td>0.09185</td>\n",
       "    </tr>\n",
       "  </tbody>\n",
       "</table>\n",
       "<p>455 rows × 10 columns</p>\n",
       "</div>"
      ],
      "text/plain": [
       "     smoothness_mean  fractal_dimension_mean  smoothness_se  concavity_se  \\\n",
       "111          0.09933                 0.07070       0.012910       0.05101   \n",
       "463          0.08508                 0.05859       0.006709       0.02080   \n",
       "268          0.09425                 0.05769       0.005518       0.02589   \n",
       "20           0.10750                 0.06811       0.004097       0.01698   \n",
       "520          0.13710                 0.07696       0.015460       0.02197   \n",
       "..               ...                     ...            ...           ...   \n",
       "462          0.06995                 0.05433       0.005356       0.01971   \n",
       "566          0.08455                 0.05648       0.005903       0.04730   \n",
       "53           0.11480                 0.06310       0.003899       0.02817   \n",
       "144          0.07793                 0.05688       0.006547       0.02018   \n",
       "45           0.10990                 0.06049       0.006294       0.05554   \n",
       "\n",
       "     texture_worst  perimeter_worst  area_worst  smoothness_worst  \\\n",
       "111          25.47            89.00       527.4            0.1287   \n",
       "463          24.02            82.68       495.1            0.1342   \n",
       "268          23.64            89.27       597.5            0.1256   \n",
       "20           20.49            96.09       630.5            0.1312   \n",
       "520          17.84            67.84       326.6            0.1850   \n",
       "..             ...              ...         ...               ...   \n",
       "462          31.98           100.40       734.6            0.1017   \n",
       "566          34.12           126.70      1124.0            0.1139   \n",
       "53           24.13           135.10      1321.0            0.1280   \n",
       "144          20.72            77.79       441.2            0.1076   \n",
       "45           21.32           150.60      1567.0            0.1679   \n",
       "\n",
       "     concavity_worst  fractal_dimension_worst  \n",
       "111          0.22160                  0.08486  \n",
       "463          0.18600                  0.07863  \n",
       "268          0.19920                  0.07062  \n",
       "20           0.18900                  0.08183  \n",
       "520          0.09996                  0.08982  \n",
       "..               ...                      ...  \n",
       "462          0.14720                  0.06464  \n",
       "566          0.34030                  0.07820  \n",
       "53           0.26230                  0.07987  \n",
       "144          0.09755                  0.06769  \n",
       "45           0.73450                  0.09185  \n",
       "\n",
       "[455 rows x 10 columns]"
      ]
     },
     "execution_count": 50,
     "metadata": {},
     "output_type": "execute_result"
    }
   ],
   "source": [
    "X_train.iloc[:, feat_cols]"
   ]
  },
  {
   "cell_type": "code",
   "execution_count": 52,
   "id": "51275bec",
   "metadata": {},
   "outputs": [
    {
     "data": {
      "text/html": [
       "<style>#sk-container-id-4 {color: black;background-color: white;}#sk-container-id-4 pre{padding: 0;}#sk-container-id-4 div.sk-toggleable {background-color: white;}#sk-container-id-4 label.sk-toggleable__label {cursor: pointer;display: block;width: 100%;margin-bottom: 0;padding: 0.3em;box-sizing: border-box;text-align: center;}#sk-container-id-4 label.sk-toggleable__label-arrow:before {content: \"▸\";float: left;margin-right: 0.25em;color: #696969;}#sk-container-id-4 label.sk-toggleable__label-arrow:hover:before {color: black;}#sk-container-id-4 div.sk-estimator:hover label.sk-toggleable__label-arrow:before {color: black;}#sk-container-id-4 div.sk-toggleable__content {max-height: 0;max-width: 0;overflow: hidden;text-align: left;background-color: #f0f8ff;}#sk-container-id-4 div.sk-toggleable__content pre {margin: 0.2em;color: black;border-radius: 0.25em;background-color: #f0f8ff;}#sk-container-id-4 input.sk-toggleable__control:checked~div.sk-toggleable__content {max-height: 200px;max-width: 100%;overflow: auto;}#sk-container-id-4 input.sk-toggleable__control:checked~label.sk-toggleable__label-arrow:before {content: \"▾\";}#sk-container-id-4 div.sk-estimator input.sk-toggleable__control:checked~label.sk-toggleable__label {background-color: #d4ebff;}#sk-container-id-4 div.sk-label input.sk-toggleable__control:checked~label.sk-toggleable__label {background-color: #d4ebff;}#sk-container-id-4 input.sk-hidden--visually {border: 0;clip: rect(1px 1px 1px 1px);clip: rect(1px, 1px, 1px, 1px);height: 1px;margin: -1px;overflow: hidden;padding: 0;position: absolute;width: 1px;}#sk-container-id-4 div.sk-estimator {font-family: monospace;background-color: #f0f8ff;border: 1px dotted black;border-radius: 0.25em;box-sizing: border-box;margin-bottom: 0.5em;}#sk-container-id-4 div.sk-estimator:hover {background-color: #d4ebff;}#sk-container-id-4 div.sk-parallel-item::after {content: \"\";width: 100%;border-bottom: 1px solid gray;flex-grow: 1;}#sk-container-id-4 div.sk-label:hover label.sk-toggleable__label {background-color: #d4ebff;}#sk-container-id-4 div.sk-serial::before {content: \"\";position: absolute;border-left: 1px solid gray;box-sizing: border-box;top: 0;bottom: 0;left: 50%;z-index: 0;}#sk-container-id-4 div.sk-serial {display: flex;flex-direction: column;align-items: center;background-color: white;padding-right: 0.2em;padding-left: 0.2em;position: relative;}#sk-container-id-4 div.sk-item {position: relative;z-index: 1;}#sk-container-id-4 div.sk-parallel {display: flex;align-items: stretch;justify-content: center;background-color: white;position: relative;}#sk-container-id-4 div.sk-item::before, #sk-container-id-4 div.sk-parallel-item::before {content: \"\";position: absolute;border-left: 1px solid gray;box-sizing: border-box;top: 0;bottom: 0;left: 50%;z-index: -1;}#sk-container-id-4 div.sk-parallel-item {display: flex;flex-direction: column;z-index: 1;position: relative;background-color: white;}#sk-container-id-4 div.sk-parallel-item:first-child::after {align-self: flex-end;width: 50%;}#sk-container-id-4 div.sk-parallel-item:last-child::after {align-self: flex-start;width: 50%;}#sk-container-id-4 div.sk-parallel-item:only-child::after {width: 0;}#sk-container-id-4 div.sk-dashed-wrapped {border: 1px dashed gray;margin: 0 0.4em 0.5em 0.4em;box-sizing: border-box;padding-bottom: 0.4em;background-color: white;}#sk-container-id-4 div.sk-label label {font-family: monospace;font-weight: bold;display: inline-block;line-height: 1.2em;}#sk-container-id-4 div.sk-label-container {text-align: center;}#sk-container-id-4 div.sk-container {/* jupyter's `normalize.less` sets `[hidden] { display: none; }` but bootstrap.min.css set `[hidden] { display: none !important; }` so we also need the `!important` here to be able to override the default hidden behavior on the sphinx rendered scikit-learn.org. See: https://github.com/scikit-learn/scikit-learn/issues/21755 */display: inline-block !important;position: relative;}#sk-container-id-4 div.sk-text-repr-fallback {display: none;}</style><div id=\"sk-container-id-4\" class=\"sk-top-container\"><div class=\"sk-text-repr-fallback\"><pre>RandomForestClassifier(max_depth=4, n_estimators=1000, random_state=42)</pre><b>In a Jupyter environment, please rerun this cell to show the HTML representation or trust the notebook. <br />On GitHub, the HTML representation is unable to render, please try loading this page with nbviewer.org.</b></div><div class=\"sk-container\" hidden><div class=\"sk-item\"><div class=\"sk-estimator sk-toggleable\"><input class=\"sk-toggleable__control sk-hidden--visually\" id=\"sk-estimator-id-8\" type=\"checkbox\" checked><label for=\"sk-estimator-id-8\" class=\"sk-toggleable__label sk-toggleable__label-arrow\">RandomForestClassifier</label><div class=\"sk-toggleable__content\"><pre>RandomForestClassifier(max_depth=4, n_estimators=1000, random_state=42)</pre></div></div></div></div></div>"
      ],
      "text/plain": [
       "RandomForestClassifier(max_depth=4, n_estimators=1000, random_state=42)"
      ]
     },
     "execution_count": 52,
     "metadata": {},
     "output_type": "execute_result"
    }
   ],
   "source": [
    "# Build full model with selected features\n",
    "clf1 = RandomForestClassifier(n_estimators=1000, random_state=42, max_depth=4)\n",
    "clf1.fit(X_train.iloc[:, feat_cols], y_train)\n",
    "\n"
   ]
  },
  {
   "cell_type": "code",
   "execution_count": null,
   "id": "5ca6cd0e",
   "metadata": {},
   "outputs": [],
   "source": [
    "def class_report(actual_y,data_to_predict,classifier):\n",
    "    predictions=classifier.predict(data_to_predict)\n",
    "    return classification_report(actual_y,predictions)"
   ]
  },
  {
   "cell_type": "code",
   "execution_count": 57,
   "id": "ed52bde0",
   "metadata": {},
   "outputs": [
    {
     "name": "stdout",
     "output_type": "stream",
     "text": [
      "Training accuracy on selected features\n",
      "              precision    recall  f1-score   support\n",
      "\n",
      "           0       1.00      1.00      1.00       285\n",
      "           1       0.99      0.99      0.99       170\n",
      "\n",
      "    accuracy                           1.00       455\n",
      "   macro avg       1.00      1.00      1.00       455\n",
      "weighted avg       1.00      1.00      1.00       455\n",
      "\n"
     ]
    }
   ],
   "source": [
    "y_train_pred = clf1.predict(X_train.iloc[:, feat_cols])\n",
    "print('Training accuracy on selected features')\n",
    "print(classification_report(y_train, y_train_pred))\n",
    "\n"
   ]
  },
  {
   "cell_type": "code",
   "execution_count": 59,
   "id": "44ea49f7",
   "metadata": {},
   "outputs": [
    {
     "name": "stdout",
     "output_type": "stream",
     "text": [
      "Testing accuracy on selected features: \n",
      "              precision    recall  f1-score   support\n",
      "\n",
      "           0       0.93      0.97      0.95        72\n",
      "           1       0.95      0.88      0.91        42\n",
      "\n",
      "    accuracy                           0.94       114\n",
      "   macro avg       0.94      0.93      0.93       114\n",
      "weighted avg       0.94      0.94      0.94       114\n",
      "\n"
     ]
    }
   ],
   "source": [
    "y_test_pred = clf1.predict(X_test.iloc[:, feat_cols])\n",
    "print('Testing accuracy on selected features: ')\n",
    "print(classification_report(y_test, y_test_pred))\n"
   ]
  },
  {
   "cell_type": "code",
   "execution_count": null,
   "id": "275bbda5",
   "metadata": {},
   "outputs": [],
   "source": []
  },
  {
   "cell_type": "code",
   "execution_count": null,
   "id": "677c6aba",
   "metadata": {},
   "outputs": [],
   "source": []
  },
  {
   "cell_type": "code",
   "execution_count": null,
   "id": "06e9e6d9",
   "metadata": {},
   "outputs": [],
   "source": []
  },
  {
   "cell_type": "code",
   "execution_count": null,
   "id": "631360cf",
   "metadata": {},
   "outputs": [],
   "source": []
  },
  {
   "cell_type": "code",
   "execution_count": null,
   "id": "593d7471",
   "metadata": {},
   "outputs": [],
   "source": []
  },
  {
   "cell_type": "code",
   "execution_count": null,
   "id": "79ec7b40",
   "metadata": {},
   "outputs": [],
   "source": []
  },
  {
   "cell_type": "code",
   "execution_count": null,
   "id": "523c6863",
   "metadata": {},
   "outputs": [],
   "source": []
  },
  {
   "cell_type": "code",
   "execution_count": null,
   "id": "fc817fba",
   "metadata": {},
   "outputs": [],
   "source": []
  },
  {
   "cell_type": "code",
   "execution_count": null,
   "id": "ce2de42d",
   "metadata": {},
   "outputs": [],
   "source": []
  },
  {
   "cell_type": "code",
   "execution_count": null,
   "id": "52486a35",
   "metadata": {},
   "outputs": [],
   "source": []
  },
  {
   "cell_type": "code",
   "execution_count": null,
   "id": "02fcc0ce",
   "metadata": {},
   "outputs": [],
   "source": []
  },
  {
   "cell_type": "code",
   "execution_count": null,
   "id": "acae3d4b",
   "metadata": {},
   "outputs": [],
   "source": []
  },
  {
   "cell_type": "code",
   "execution_count": null,
   "id": "3c8da973",
   "metadata": {},
   "outputs": [],
   "source": []
  },
  {
   "cell_type": "code",
   "execution_count": null,
   "id": "78d4f128",
   "metadata": {},
   "outputs": [],
   "source": []
  },
  {
   "cell_type": "code",
   "execution_count": null,
   "id": "9ead6a54",
   "metadata": {},
   "outputs": [],
   "source": []
  },
  {
   "cell_type": "code",
   "execution_count": null,
   "id": "bd150562",
   "metadata": {},
   "outputs": [],
   "source": []
  },
  {
   "cell_type": "code",
   "execution_count": null,
   "id": "b69572bd",
   "metadata": {},
   "outputs": [],
   "source": []
  },
  {
   "cell_type": "code",
   "execution_count": null,
   "id": "05d7fd3e",
   "metadata": {},
   "outputs": [],
   "source": []
  }
 ],
 "metadata": {
  "kernelspec": {
   "display_name": "Python 3 (ipykernel)",
   "language": "python",
   "name": "python3"
  },
  "language_info": {
   "codemirror_mode": {
    "name": "ipython",
    "version": 3
   },
   "file_extension": ".py",
   "mimetype": "text/x-python",
   "name": "python",
   "nbconvert_exporter": "python",
   "pygments_lexer": "ipython3",
   "version": "3.10.4"
  }
 },
 "nbformat": 4,
 "nbformat_minor": 5
}
